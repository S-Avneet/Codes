{
 "cells": [
  {
   "cell_type": "code",
   "execution_count": 5,
   "id": "0834af30",
   "metadata": {},
   "outputs": [],
   "source": [
    "import mysql.connector as sql"
   ]
  },
  {
   "cell_type": "code",
   "execution_count": 26,
   "id": "2d3c8791",
   "metadata": {},
   "outputs": [],
   "source": [
    "class CMS():\n",
    "\n",
    "    def __init__(self):\n",
    "        self.username = str(input(\"Username = \"))\n",
    "        self.__password = str(input(\"Password = \"))\n",
    "        \n",
    "        if self.username == 'Admin' and self.__password == 'QWERTY':\n",
    "            print(\"You are logged in\")\n",
    "            \n",
    "        else:\n",
    "            print(\"Incorrect Username or Password\")\n",
    "            "
   ]
  },
  {
   "cell_type": "code",
   "execution_count": 27,
   "id": "f6f70ef4",
   "metadata": {},
   "outputs": [
    {
     "name": "stdout",
     "output_type": "stream",
     "text": [
      "Username = Admin\n",
      "Password = QWERTY\n",
      "You are logged in\n"
     ]
    }
   ],
   "source": [
    "cms = CMS()"
   ]
  },
  {
   "cell_type": "code",
   "execution_count": 28,
   "id": "2200d8f6",
   "metadata": {},
   "outputs": [],
   "source": [
    "connection = sql.connect(host='localhost', user='root', password='The28Table')\n",
    " \n",
    "cursor=connection.cursor()"
   ]
  },
  {
   "cell_type": "code",
   "execution_count": 31,
   "id": "85dd2e86",
   "metadata": {},
   "outputs": [],
   "source": [
    "cursor.execute(\"CREATE DATABASE college_system\")"
   ]
  },
  {
   "cell_type": "code",
   "execution_count": 32,
   "id": "dbb99b3e",
   "metadata": {},
   "outputs": [],
   "source": [
    "connection = sql.connect(host='localhost', user='root', password='The28Table', database='college_system')"
   ]
  },
  {
   "cell_type": "code",
   "execution_count": 35,
   "id": "becc176d",
   "metadata": {},
   "outputs": [],
   "source": [
    "cursor=connection.cursor()"
   ]
  },
  {
   "cell_type": "markdown",
   "id": "8704e0e3",
   "metadata": {},
   "source": [
    "# CREATING TABLES"
   ]
  },
  {
   "cell_type": "code",
   "execution_count": 59,
   "id": "0865292f",
   "metadata": {},
   "outputs": [],
   "source": [
    "cursor.execute(\"CREATE TABLE STUDENT(NAME VARCHAR(50), AGE INT, BRANCH VARCHAR(50), SUBJECTS VARCHAR(80), JOINING DATE, COURSE_DURATION INT, FEE INT)\")\n",
    "\n",
    "cursor.execute(\"CREATE TABLE PARENTS(NAME VARCHAR(50), OCCUPATION VARCHAR(20), ANNUAL_SALARY INT, PARENT_OF VARCHAR(50), EMAIL VARCHAR(60)\")\n",
    "\n",
    "cursor.execute(\"CREATE TABLE FACULTY(NAME VARCHAR(50), SUBJECT VARCHAR(20), QUALIFICATION VARCHAR(50))\")\n",
    "\n",
    "cursor.execute(\"CREATE TABLE MARKS(NAME VARCHAR(50), SUBJECTS VARCHAR(80), MARKS INT)\")"
   ]
  },
  {
   "cell_type": "markdown",
   "id": "fdd2714a",
   "metadata": {},
   "source": [
    "# INSERTING VALUES"
   ]
  },
  {
   "cell_type": "code",
   "execution_count": 60,
   "id": "b386cf5a",
   "metadata": {},
   "outputs": [],
   "source": [
    "query=\"INSERT INTO STUDENT(NAME, AGE, BRANCH, SUBJECTS, JOINING, COURSE_DURATION, FEE) VALUES(%s,%s,%s,%s,%s,%s,%s)\"\n",
    "\n",
    "values=[('Avneet Singh', 29, 'Mechanical Engineering', 'Thermodynamics, Fluid Mechanics, SOM, DOM, C lang', '2021/3/30', 4, 50000),\n",
    "        ('Rashmi Rana', 25, 'Architecture', 'Drafting, Interior Design, CAD, Maths, Materials', '2020/4/4', 5, 30000)]\n",
    "\n",
    "cursor.executemany(query,values)\n",
    "\n",
    "connection.commit()"
   ]
  },
  {
   "cell_type": "code",
   "execution_count": 41,
   "id": "12825a17",
   "metadata": {},
   "outputs": [],
   "source": [
    "query='INSERT INTO FACULTY(NAME, SUBJECT, QUALIFICATION) VALUES(%s,%s,%s)'\n",
    "\n",
    "values=[('Ravi Shukla', 'CAD', 'M.Tech - Computers'), ('Geeta Smith', 'Fluid Mechanics', 'PH.D in Fluid Dynamics'), \n",
    "        ('Chhavi Arora', 'Drafting', 'M. Arch'), ('Even Sekri', 'DOM', 'B.Tech in Mechanical'), \n",
    "       ('Deepak Sharma', 'Thermodynamics', 'Ph.D in Mechanical'), ('Diksha Rawat', 'Maths', 'M.Sc in Mathematics')]\n",
    "\n",
    "cursor.executemany(query,values)\n",
    "\n",
    "connection.commit()"
   ]
  },
  {
   "cell_type": "code",
   "execution_count": 58,
   "id": "cf79e980",
   "metadata": {},
   "outputs": [],
   "source": [
    "query=\"INSERT INTO PARENTS(NAME, OCCUPATION, ANNUAL_SALARY, PARENT_OF, EMAIL) VALUES(%s,%s,%s,%s,%s)\"\n",
    "\n",
    "values=[('Tirlochan Singh', 'Business Man', 1000000, 'Avneet Singh', 'tsingh@gmail.com'),\n",
    "       ('Raman Rana', 'Salaried Employee', 900000, 'Rashmi Rana', 'rana.raman@gmail.com')]\n",
    "\n",
    "cursor.executemany(query,values)\n",
    "\n",
    "connection.commit()"
   ]
  },
  {
   "cell_type": "code",
   "execution_count": 191,
   "id": "4b4ea21a",
   "metadata": {},
   "outputs": [],
   "source": [
    "query=\"INSERT INTO MARKS(NAME, SUBJECTS, MARKS) VALUES(%s,%s,%s)\"\n",
    "\n",
    "values=[('Avneet Singh', 'Thermodynamics, Fluid Mechanics, SOM, DOM, C lang', 72),\n",
    "       ('Rashmi Rana', 'Drafting, Interior Design, CAD, Maths, Materials', 73.4)]\n",
    "\n",
    "cursor.executemany(query,values)\n",
    "\n",
    "connection.commit()"
   ]
  },
  {
   "cell_type": "code",
   "execution_count": 179,
   "id": "efb73740",
   "metadata": {},
   "outputs": [
    {
     "name": "stdout",
     "output_type": "stream",
     "text": [
      "Rashmi Rana Fee is pending\n",
      "Communicate to the parents about Pending Fee\n",
      "Communication for Pending Fee has been sent to Raman Rana at rana.raman@gmail.com\n"
     ]
    }
   ],
   "source": [
    "connection = sql.connect(host='localhost', user='root', password='The28Table', database='college_system')\n",
    "\n",
    "cursor1=connection.cursor()\n",
    "\n",
    "cursor1.execute(\"SELECT * FROM STUDENT\")\n",
    "stu_info = cursor1.fetchall()\n",
    "\n",
    "cursor2=connection.cursor()\n",
    "\n",
    "cursor2.execute(\"SELECT * FROM PARENTS\")\n",
    "par_info = cursor2.fetchall()\n",
    "\n",
    "for col in stu_info:\n",
    "    if col[6]<50000:\n",
    "        print(col[0],\"Fee is pending\")\n",
    "        print(\"Communicate to the parents about Pending Fee\")\n",
    "        for col1 in par_info:\n",
    "            if col1[3]==col[0]:\n",
    "                print(\"Communication for Pending Fee has been sent to {} at {}\".format(col1[0],col1[4]))\n",
    "    \n",
    "        \n",
    "    else:\n",
    "        pass\n",
    "\n",
    "\n",
    "    "
   ]
  },
  {
   "cell_type": "code",
   "execution_count": 199,
   "id": "4e671e17",
   "metadata": {},
   "outputs": [
    {
     "name": "stdout",
     "output_type": "stream",
     "text": [
      "Enter student name to fetch percentage Avneet Singh\n",
      "Avneet Singh scored 72 percentage. This is average score of the following subjects: Thermodynamics, Fluid Mechanics, SOM, DOM, C lang\n",
      "Name does not exist in the record\n",
      "Avneet Singh scored 72 percentage. This is average score of the following subjects: Thermodynamics, Fluid Mechanics, SOM, DOM, C lang\n",
      "Name does not exist in the record\n"
     ]
    }
   ],
   "source": [
    "connection = sql.connect(host='localhost', user='root', password='The28Table', database='college_system')\n",
    "\n",
    "cursor=connection.cursor()\n",
    "\n",
    "cursor.execute(\"SELECT * FROM MARKS\")\n",
    "marks = cursor.fetchall()\n",
    "\n",
    "name1 = str(input(\"Enter student name to fetch percentage \"))\n",
    "for m in marks:\n",
    "    if name1==m[0]:\n",
    "        print(\"{} scored {} percentage. This is average score of the following subjects: {}\".format(m[0],m[2],m[1]))\n",
    "    else:\n",
    "        print(\"Name does not exist in the record\")\n",
    "        "
   ]
  },
  {
   "cell_type": "markdown",
   "id": "aea2aa89",
   "metadata": {},
   "source": []
  },
  {
   "cell_type": "code",
   "execution_count": null,
   "id": "2eecc43f",
   "metadata": {},
   "outputs": [],
   "source": []
  },
  {
   "cell_type": "code",
   "execution_count": null,
   "id": "81afdc62",
   "metadata": {},
   "outputs": [],
   "source": []
  }
 ],
 "metadata": {
  "kernelspec": {
   "display_name": "Python 3",
   "language": "python",
   "name": "python3"
  }
 },
 "nbformat": 4,
 "nbformat_minor": 5
}
